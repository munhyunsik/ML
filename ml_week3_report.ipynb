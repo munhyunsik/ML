{
  "nbformat": 4,
  "nbformat_minor": 0,
  "metadata": {
    "colab": {
      "provenance": [],
      "include_colab_link": true
    },
    "kernelspec": {
      "name": "python3",
      "display_name": "Python 3"
    },
    "language_info": {
      "name": "python"
    }
  },
  "cells": [
    {
      "cell_type": "markdown",
      "metadata": {
        "id": "view-in-github",
        "colab_type": "text"
      },
      "source": [
        "<a href=\"https://colab.research.google.com/github/munhyunsik/ML/blob/main/ml_week3_report.ipynb\" target=\"_parent\"><img src=\"https://colab.research.google.com/assets/colab-badge.svg\" alt=\"Open In Colab\"/></a>"
      ]
    },
    {
      "cell_type": "code",
      "execution_count": null,
      "metadata": {
        "id": "CBT2PTEMjG_A"
      },
      "outputs": [],
      "source": [
        "import numpy as np"
      ]
    },
    {
      "cell_type": "code",
      "source": [
        "q1 = np.arange(10)\n",
        "q1 = q1[::-1]\n",
        "\n",
        "print(q1)"
      ],
      "metadata": {
        "colab": {
          "base_uri": "https://localhost:8080/"
        },
        "id": "bGFIEshKkCrp",
        "outputId": "61f24b70-c9de-477f-f198-ad54bf0c9674"
      },
      "execution_count": null,
      "outputs": [
        {
          "output_type": "stream",
          "name": "stdout",
          "text": [
            "[9 8 7 6 5 4 3 2 1 0]\n"
          ]
        }
      ]
    },
    {
      "cell_type": "code",
      "source": [
        "q2_1 = np.arange(9)\n",
        "q2_2 = q2_1.reshape(3,3)\n",
        "q2_3 = q2_1.reshape(9,1)\n",
        "\n",
        "print(q2_1)\n",
        "print(q2_2)\n",
        "print(q2_3)"
      ],
      "metadata": {
        "colab": {
          "base_uri": "https://localhost:8080/"
        },
        "id": "j-iVNTY8oyXl",
        "outputId": "b6de8ca7-2e9c-4ced-f395-7edf79d6df66"
      },
      "execution_count": null,
      "outputs": [
        {
          "output_type": "stream",
          "name": "stdout",
          "text": [
            "[0 1 2 3 4 5 6 7 8]\n",
            "[[0 1 2]\n",
            " [3 4 5]\n",
            " [6 7 8]]\n",
            "[[0]\n",
            " [1]\n",
            " [2]\n",
            " [3]\n",
            " [4]\n",
            " [5]\n",
            " [6]\n",
            " [7]\n",
            " [8]]\n"
          ]
        }
      ]
    },
    {
      "cell_type": "code",
      "source": [
        "q3 = np.ones((10,10))\n",
        "q3[1:9,1:9] = np.zeros((8,8))\n",
        "\n",
        "print(q3)"
      ],
      "metadata": {
        "colab": {
          "base_uri": "https://localhost:8080/"
        },
        "id": "feg-NKcUkLVD",
        "outputId": "b9a5a77c-71b2-45e0-df40-2a12104b9d44"
      },
      "execution_count": null,
      "outputs": [
        {
          "output_type": "stream",
          "name": "stdout",
          "text": [
            "[[1. 1. 1. 1. 1. 1. 1. 1. 1. 1.]\n",
            " [1. 0. 0. 0. 0. 0. 0. 0. 0. 1.]\n",
            " [1. 0. 0. 0. 0. 0. 0. 0. 0. 1.]\n",
            " [1. 0. 0. 0. 0. 0. 0. 0. 0. 1.]\n",
            " [1. 0. 0. 0. 0. 0. 0. 0. 0. 1.]\n",
            " [1. 0. 0. 0. 0. 0. 0. 0. 0. 1.]\n",
            " [1. 0. 0. 0. 0. 0. 0. 0. 0. 1.]\n",
            " [1. 0. 0. 0. 0. 0. 0. 0. 0. 1.]\n",
            " [1. 0. 0. 0. 0. 0. 0. 0. 0. 1.]\n",
            " [1. 1. 1. 1. 1. 1. 1. 1. 1. 1.]]\n"
          ]
        }
      ]
    },
    {
      "cell_type": "code",
      "source": [
        "q4 = np.ones((5,5))\n",
        "q4[::2,::2] = 0\n",
        "q4[1::2,1::2] = 0\n",
        "\n",
        "print(q4)"
      ],
      "metadata": {
        "colab": {
          "base_uri": "https://localhost:8080/"
        },
        "id": "qZJqJd5Xk5BR",
        "outputId": "f34a7368-7ca1-4cc8-b61d-898e5a2a6f80"
      },
      "execution_count": null,
      "outputs": [
        {
          "output_type": "stream",
          "name": "stdout",
          "text": [
            "[[0. 1. 0. 1. 0.]\n",
            " [1. 0. 1. 0. 1.]\n",
            " [0. 1. 0. 1. 0.]\n",
            " [1. 0. 1. 0. 1.]\n",
            " [0. 1. 0. 1. 0.]]\n"
          ]
        }
      ]
    },
    {
      "cell_type": "code",
      "source": [
        "q5 = np.arange(10)\n",
        "\n",
        "for i in range(10):\n",
        "    if 5 <= q5[i] <= 8:\n",
        "        q5[i] = -q5[i]\n",
        "\n",
        "print(q5)\n"
      ],
      "metadata": {
        "colab": {
          "base_uri": "https://localhost:8080/"
        },
        "id": "90PwqU2BmRz6",
        "outputId": "83341b88-d5ef-4606-e1e5-e05cc9fe57a8"
      },
      "execution_count": null,
      "outputs": [
        {
          "output_type": "stream",
          "name": "stdout",
          "text": [
            "[ 0  1  2  3  4 -5 -6 -7 -8  9]\n"
          ]
        }
      ]
    },
    {
      "cell_type": "code",
      "source": [
        "q6_X = np.array([[4,5],[7,10]])\n",
        "q6_Y = np.array([[2,3],[1,5]])\n",
        "q6_Z = q6_X @ q6_Y\n",
        "\n",
        "print(q6_X)\n",
        "print(q6_Y)\n",
        "print(q6_Z)"
      ],
      "metadata": {
        "colab": {
          "base_uri": "https://localhost:8080/"
        },
        "id": "Zel6hLwOnsdc",
        "outputId": "500eb72f-a83d-46e8-d0de-824876f8d00a"
      },
      "execution_count": null,
      "outputs": [
        {
          "output_type": "stream",
          "name": "stdout",
          "text": [
            "[[ 4  5]\n",
            " [ 7 10]]\n",
            "[[2 3]\n",
            " [1 5]]\n",
            "[[13 37]\n",
            " [24 71]]\n"
          ]
        }
      ]
    },
    {
      "cell_type": "code",
      "source": [
        "import matplotlib.pyplot as plt\n",
        "import math\n",
        "\n",
        "X = np.linspace(-10, 10, 100)\n",
        "Y1 = 1/(1 + np.exp(-X))\n",
        "Y2 = np.exp(-X)/((1 + np.exp(-X)) ** 2)\n",
        "\n",
        "plt.plot(X, Y1, label='Sigmoid')\n",
        "plt.plot(X, Y2, label='Dif_Sigmoid')\n",
        "plt.xlabel(\"X\")\n",
        "plt.ylabel(\"Y\")\n",
        "plt.legend(loc = \"upper left\")\n",
        "plt.show()"
      ],
      "metadata": {
        "colab": {
          "base_uri": "https://localhost:8080/",
          "height": 449
        },
        "id": "MN0hEWwboX0L",
        "outputId": "1a693cb9-ad70-42a4-de5d-575eb964720b"
      },
      "execution_count": null,
      "outputs": [
        {
          "output_type": "display_data",
          "data": {
            "text/plain": [
              "<Figure size 640x480 with 1 Axes>"
            ],
            "image/png": "[encoded data removed]"
          },
          "metadata": {}
        }
      ]
    },
    {
      "cell_type": "code",
      "source": [],
      "metadata": {
        "id": "zO8Ux8ZIrHKT"
      },
      "execution_count": null,
      "outputs": []
    }
  ]
}